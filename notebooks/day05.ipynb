{
 "cells": [
  {
   "cell_type": "code",
   "execution_count": 1,
   "id": "834a0da3",
   "metadata": {},
   "outputs": [],
   "source": [
    "import numpy as np"
   ]
  },
  {
   "cell_type": "code",
   "execution_count": 2,
   "id": "e3c70134",
   "metadata": {},
   "outputs": [],
   "source": [
    "with open('../data/day05.txt') as f:\n",
    "    data = f.read().splitlines()"
   ]
  },
  {
   "cell_type": "code",
   "execution_count": 3,
   "id": "865d039d",
   "metadata": {},
   "outputs": [],
   "source": [
    "# find the index of the first empty line in data\n",
    "for i, line in enumerate(data):\n",
    "    if line == '':\n",
    "        break"
   ]
  },
  {
   "cell_type": "code",
   "execution_count": 4,
   "id": "7f21f374",
   "metadata": {},
   "outputs": [],
   "source": [
    "stacks = data[:i]\n",
    "commands = data[(i+1):]"
   ]
  },
  {
   "cell_type": "code",
   "execution_count": 5,
   "id": "e96ed5e5",
   "metadata": {},
   "outputs": [],
   "source": [
    "max_stacks = int(stacks[-1].split()[-1])"
   ]
  },
  {
   "cell_type": "code",
   "execution_count": 6,
   "id": "b10c2538",
   "metadata": {},
   "outputs": [],
   "source": [
    "reduced = []\n",
    "for i, row in enumerate(stacks):\n",
    "    reduced.append([])\n",
    "    for stack in range(max_stacks):\n",
    "        reduced[i].append(row[stack*4 + 1])\n",
    "\n",
    "reduced = np.array(reduced)[::-1].T\n",
    "\n",
    "stacks = {}\n",
    "for row in reduced:\n",
    "    name = row[0]\n",
    "    content = row[1:]\n",
    "    stacks[name] = list(content[content != \" \"])"
   ]
  },
  {
   "cell_type": "code",
   "execution_count": 7,
   "id": "c3b1f750",
   "metadata": {},
   "outputs": [
    {
     "data": {
      "text/plain": [
       "{'1': ['R', 'G', 'J', 'B', 'T', 'V', 'Z'],\n",
       " '2': ['J', 'R', 'V', 'L'],\n",
       " '3': ['S', 'Q', 'F'],\n",
       " '4': ['Z', 'H', 'N', 'L', 'F', 'V', 'Q', 'G'],\n",
       " '5': ['R', 'Q', 'T', 'J', 'C', 'S', 'M', 'W'],\n",
       " '6': ['S', 'W', 'T', 'C', 'H', 'F'],\n",
       " '7': ['D', 'Z', 'C', 'V', 'F', 'N', 'J'],\n",
       " '8': ['L', 'G', 'Z', 'D', 'W', 'R', 'F', 'Q'],\n",
       " '9': ['J', 'B', 'W', 'V', 'P']}"
      ]
     },
     "execution_count": 7,
     "metadata": {},
     "output_type": "execute_result"
    }
   ],
   "source": [
    "stacks"
   ]
  },
  {
   "cell_type": "code",
   "execution_count": 8,
   "id": "7db2c2ce",
   "metadata": {},
   "outputs": [],
   "source": [
    "def parse_command(command):\n",
    "    words = command.split()\n",
    "    number = int(words[1])\n",
    "    stack_from = words[3]\n",
    "    stack_to = words[5]\n",
    "    return number, stack_from, stack_to\n",
    "\n",
    "def move(stacks, sfrom, sto, n=1):\n",
    "    if n == 1:\n",
    "        stacks[sto].append(stacks[sfrom].pop())\n",
    "    else:\n",
    "        to_move = []\n",
    "        for _ in range(n):\n",
    "            to_move.append(stacks[sfrom].pop())\n",
    "        for _ in range(n):\n",
    "            stacks[sto].append(to_move.pop())"
   ]
  },
  {
   "cell_type": "code",
   "execution_count": 9,
   "id": "e51b6207",
   "metadata": {},
   "outputs": [],
   "source": [
    "for command in commands:\n",
    "    n, sfrom, sto = parse_command(command)\n",
    "    # for i in range(n):\n",
    "    #     move(stacks, sfrom, sto)\n",
    "    move(stacks, sfrom, sto, n=n)"
   ]
  },
  {
   "cell_type": "code",
   "execution_count": 10,
   "id": "f0aab3f9",
   "metadata": {},
   "outputs": [],
   "source": [
    "# finally compile the word:\n",
    "result = ''\n",
    "for stack in stacks.values():\n",
    "    result += stack.pop()"
   ]
  },
  {
   "cell_type": "code",
   "execution_count": 11,
   "id": "362504ea",
   "metadata": {},
   "outputs": [
    {
     "data": {
      "text/plain": [
       "'QZFJRWHGS'"
      ]
     },
     "execution_count": 11,
     "metadata": {},
     "output_type": "execute_result"
    }
   ],
   "source": [
    "result"
   ]
  }
 ],
 "metadata": {
  "kernelspec": {
   "display_name": "Python 3 (ipykernel)",
   "language": "python",
   "name": "python3"
  },
  "language_info": {
   "codemirror_mode": {
    "name": "ipython",
    "version": 3
   },
   "file_extension": ".py",
   "mimetype": "text/x-python",
   "name": "python",
   "nbconvert_exporter": "python",
   "pygments_lexer": "ipython3",
   "version": "3.9.16"
  }
 },
 "nbformat": 4,
 "nbformat_minor": 5
}
