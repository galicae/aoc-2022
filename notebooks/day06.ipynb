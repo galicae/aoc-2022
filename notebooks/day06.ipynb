{
 "cells": [
  {
   "cell_type": "code",
   "execution_count": 1,
   "metadata": {},
   "outputs": [],
   "source": [
    "tests = {\n",
    "\"mjqjpqmgbljsphdztnvjfqwrcgsmlb\": 7,\n",
    "\"bvwbjplbgvbhsrlpgdmjqwftvncz\": 5,\n",
    "\"nppdvjthqldpwncqszvftbrmjlhg\": 6,\n",
    "\"nznrnfrfntjfmvfwmzdfjlvtqnbhcprsg\": 10,\n",
    "\"zcfzfwzzqfrljwzlrfnpqdbhtmscgvjw\": 11,\n",
    "}"
   ]
  },
  {
   "cell_type": "code",
   "execution_count": 3,
   "metadata": {},
   "outputs": [],
   "source": [
    "def find_first_substr_without_repetition(s, n=4):\n",
    "    for i in range(len(s) - n + 1):\n",
    "        substr = s[i:i+n]\n",
    "        found = False\n",
    "        counts = [substr.count(c) for c in substr]\n",
    "        if max(counts) == 1:\n",
    "            return i"
   ]
  },
  {
   "cell_type": "code",
   "execution_count": 5,
   "metadata": {},
   "outputs": [],
   "source": [
    "for s in tests.keys():\n",
    "    pos = find_first_substr_without_repetition(s)\n",
    "    assert (pos + 4) == tests[s], f\"Expected {tests[s]}, got {pos}\""
   ]
  },
  {
   "cell_type": "code",
   "execution_count": 9,
   "metadata": {},
   "outputs": [],
   "source": [
    "with open('../data/day06') as f:\n",
    "    data = f.read().splitlines()[0]"
   ]
  },
  {
   "cell_type": "code",
   "execution_count": 11,
   "metadata": {},
   "outputs": [
    {
     "data": {
      "text/plain": [
       "1194"
      ]
     },
     "execution_count": 11,
     "metadata": {},
     "output_type": "execute_result"
    }
   ],
   "source": [
    "find_first_substr_without_repetition(data)"
   ]
  },
  {
   "cell_type": "code",
   "execution_count": 15,
   "metadata": {},
   "outputs": [],
   "source": [
    "tests = {\n",
    "    \"mjqjpqmgbljsphdztnvjfqwrcgsmlb\": 19,\n",
    "    \"bvwbjplbgvbhsrlpgdmjqwftvncz\": 23,\n",
    "    \"nppdvjthqldpwncqszvftbrmjlhg\": 23,\n",
    "    \"nznrnfrfntjfmvfwmzdfjlvtqnbhcprsg\": 29,\n",
    "    \"zcfzfwzzqfrljwzlrfnpqdbhtmscgvjw\": 26\n",
    "}"
   ]
  },
  {
   "cell_type": "code",
   "execution_count": 16,
   "metadata": {},
   "outputs": [],
   "source": [
    "for s in tests.keys():\n",
    "    pos = find_first_substr_without_repetition(s, n=14)\n",
    "    assert (pos + 14) == tests[s], f\"Expected {tests[s]}, got {pos}\""
   ]
  },
  {
   "cell_type": "code",
   "execution_count": 17,
   "metadata": {},
   "outputs": [
    {
     "data": {
      "text/plain": [
       "3106"
      ]
     },
     "execution_count": 17,
     "metadata": {},
     "output_type": "execute_result"
    }
   ],
   "source": [
    "find_first_substr_without_repetition(data, n=14)"
   ]
  }
 ],
 "metadata": {
  "kernelspec": {
   "display_name": "ascc23",
   "language": "python",
   "name": "python3"
  },
  "language_info": {
   "codemirror_mode": {
    "name": "ipython",
    "version": 3
   },
   "file_extension": ".py",
   "mimetype": "text/x-python",
   "name": "python",
   "nbconvert_exporter": "python",
   "pygments_lexer": "ipython3",
   "version": "3.9.16"
  },
  "orig_nbformat": 4
 },
 "nbformat": 4,
 "nbformat_minor": 2
}
