{
 "cells": [
  {
   "cell_type": "code",
   "execution_count": 1,
   "metadata": {},
   "outputs": [],
   "source": [
    "import numpy as np\n",
    "import pandas as pd\n",
    "\n",
    "from functools import total_ordering "
   ]
  },
  {
   "cell_type": "markdown",
   "metadata": {},
   "source": [
    "# Rock paper scissors tournament"
   ]
  },
  {
   "cell_type": "code",
   "execution_count": 86,
   "metadata": {},
   "outputs": [],
   "source": [
    "@total_ordering\n",
    "class rps:\n",
    "    move = \"\"\n",
    "\n",
    "    def __init__(self, move):\n",
    "        self.move = move\n",
    "\n",
    "    def _is_valid_operand(self, other):\n",
    "        return (other.move in set([\"rock\", \"paper\", \"scissors\"]))\n",
    "\n",
    "    def __eq__(self, other):\n",
    "        if not self._is_valid_operand(other):\n",
    "            return NotImplemented\n",
    "        return (str(self.move) == str(other.move))\n",
    "        \n",
    "    def __gt__(self, other):\n",
    "        if self.move == \"rock\" and other.move == \"scissors\":\n",
    "            return True\n",
    "        elif self.move == \"paper\" and other.move == \"rock\":\n",
    "            return True\n",
    "        elif self.move == \"scissors\" and other.move == \"paper\":\n",
    "            return True\n",
    "        else:\n",
    "            return False\n",
    "\n",
    "    def __lt__(self, other):\n",
    "        return other.__gt__(self)\n",
    "\n",
    "    def __hash__(self) -> int:\n",
    "        if self.move == \"rock\":\n",
    "            return 0\n",
    "        elif self.move == \"paper\":\n",
    "            return 1\n",
    "        elif self.move == \"scissors\":\n",
    "            return 2\n",
    "\n",
    "    def win(self):\n",
    "        if self.move == \"rock\":\n",
    "            return \"paper\"\n",
    "        elif self.move == \"paper\":\n",
    "            return \"scissors\"\n",
    "        elif self.move == \"scissors\":\n",
    "            return \"rock\"\n",
    "\n",
    "    def lose(self):\n",
    "        if self.move == \"rock\":\n",
    "            return \"scissors\"\n",
    "        elif self.move == \"paper\":\n",
    "            return \"rock\"\n",
    "        elif self.move == \"scissors\":\n",
    "            return \"paper\""
   ]
  },
  {
   "cell_type": "code",
   "execution_count": 3,
   "metadata": {},
   "outputs": [],
   "source": [
    "rock = rps(\"rock\")\n",
    "paper = rps(\"paper\")\n",
    "scissors = rps(\"scissors\")"
   ]
  },
  {
   "cell_type": "code",
   "execution_count": 4,
   "metadata": {},
   "outputs": [],
   "source": [
    "assert(rock == rock)\n",
    "assert(paper == paper)\n",
    "assert(scissors == scissors)\n",
    "\n",
    "assert(rock < paper)\n",
    "assert(paper > rock)\n",
    "assert(rock > scissors)\n",
    "assert(scissors < rock)\n",
    "assert(paper < scissors)\n",
    "assert(scissors > paper)\n",
    "\n",
    "assert(not scissors < scissors)\n",
    "assert(not scissors > scissors)\n",
    "assert(not paper < paper)\n",
    "assert(not paper > paper)\n",
    "assert(not rock < rock)\n",
    "assert(not rock > rock)"
   ]
  },
  {
   "cell_type": "code",
   "execution_count": 15,
   "metadata": {},
   "outputs": [],
   "source": [
    "score_table = {\n",
    "    \"rock\": 1,\n",
    "    \"paper\": 2,\n",
    "    \"scissors\": 3,\n",
    "    \"loss\": 0,\n",
    "    \"draw\": 3,\n",
    "    \"win\": 6\n",
    "}\n",
    "\n",
    "code = {\n",
    "    \"X\": \"rock\",\n",
    "    \"Y\": \"paper\",\n",
    "    \"Z\": \"scissors\",\n",
    "    \"A\": \"rock\",\n",
    "    \"B\": \"paper\",\n",
    "    \"C\": \"scissors\",\n",
    "}"
   ]
  },
  {
   "cell_type": "code",
   "execution_count": 6,
   "metadata": {},
   "outputs": [],
   "source": [
    "def play(opponent, me, score=score_table):\n",
    "    my_points = 0\n",
    "    opponent_points = 0\n",
    "    if opponent > me:\n",
    "        my_points += score[\"loss\"]\n",
    "        opponent_points += score[\"win\"]\n",
    "    elif me > opponent:\n",
    "        my_points += score[\"win\"]\n",
    "        opponent_points += score[\"loss\"]\n",
    "    else:\n",
    "        my_points += score[\"draw\"]\n",
    "        opponent_points += score[\"draw\"]\n",
    "    my_points += score[me.move]\n",
    "    opponent_points += score[opponent.move]\n",
    "\n",
    "    return my_points, opponent_points"
   ]
  },
  {
   "cell_type": "code",
   "execution_count": 7,
   "metadata": {},
   "outputs": [],
   "source": [
    "game = \"\"\"A Y\n",
    "B X\n",
    "C Z\"\"\""
   ]
  },
  {
   "cell_type": "code",
   "execution_count": 19,
   "metadata": {},
   "outputs": [],
   "source": [
    "def play_game(game):\n",
    "    record = []\n",
    "    for round in game.split(\"\\n\"):\n",
    "        opp_code, my_code = round.split()\n",
    "        opponent = rps(code[opp_code])\n",
    "        me = rps(code[my_code])\n",
    "        my_score, their_score = play(opponent, me)\n",
    "        record.append([opp_code, my_code, their_score, my_score])\n",
    "    record = pd.DataFrame(record, columns=[\"opp_move\", \"my_move\", \"opp_score\", \"my_score\"])\n",
    "    return record"
   ]
  },
  {
   "cell_type": "code",
   "execution_count": 20,
   "metadata": {},
   "outputs": [],
   "source": [
    "mock = play_game(game)"
   ]
  },
  {
   "cell_type": "code",
   "execution_count": 21,
   "metadata": {},
   "outputs": [
    {
     "data": {
      "text/plain": [
       "15"
      ]
     },
     "execution_count": 21,
     "metadata": {},
     "output_type": "execute_result"
    }
   ],
   "source": [
    "mock[\"my_score\"].sum()"
   ]
  },
  {
   "cell_type": "code",
   "execution_count": 22,
   "metadata": {},
   "outputs": [],
   "source": [
    "with open(\"../data/day02\", \"r\") as infile:\n",
    "    data = infile.read().rstrip()"
   ]
  },
  {
   "cell_type": "code",
   "execution_count": 23,
   "metadata": {},
   "outputs": [],
   "source": [
    "real = play_game(data)"
   ]
  },
  {
   "cell_type": "code",
   "execution_count": 24,
   "metadata": {},
   "outputs": [
    {
     "data": {
      "text/plain": [
       "15523"
      ]
     },
     "execution_count": 24,
     "metadata": {},
     "output_type": "execute_result"
    }
   ],
   "source": [
    "real[\"my_score\"].sum()"
   ]
  },
  {
   "cell_type": "code",
   "execution_count": 25,
   "metadata": {},
   "outputs": [],
   "source": [
    "new_code = {\n",
    "    \"X\": \"loss\",\n",
    "    \"Y\": \"paper\",\n",
    "    \"Z\": \"win\",\n",
    "    \"A\": \"rock\",\n",
    "    \"B\": \"paper\",\n",
    "    \"C\": \"scissors\",\n",
    "}"
   ]
  },
  {
   "cell_type": "code",
   "execution_count": 50,
   "metadata": {},
   "outputs": [],
   "source": [
    "def update_moves(game, code):\n",
    "    record = []\n",
    "    for round in game.split(\"\\n\"):\n",
    "        opp_code, my_code = round.split()\n",
    "        opponent = rps(code[opp_code])\n",
    "        if my_code == \"X\":\n",
    "            me = rps(opponent.lose())\n",
    "        elif my_code == \"Z\":\n",
    "            me = rps(opponent.win())\n",
    "        elif my_code == \"Y\":\n",
    "            me = opponent\n",
    "        my_score, their_score = play(opponent, me)\n",
    "        record.append([opponent.move, me.move, their_score, my_score, my_code])\n",
    "    record = pd.DataFrame(record, columns=[\"opp_move\", \"my_move\", \"opp_score\", \"my_score\", \"directive\"])\n",
    "    return record"
   ]
  },
  {
   "cell_type": "code",
   "execution_count": 87,
   "metadata": {},
   "outputs": [],
   "source": [
    "update_real = update_moves(data, code)"
   ]
  },
  {
   "cell_type": "code",
   "execution_count": 90,
   "metadata": {},
   "outputs": [
    {
     "data": {
      "text/plain": [
       "opp_move     scissors\n",
       "my_move         paper\n",
       "opp_score           9\n",
       "my_score            2\n",
       "directive           X\n",
       "Name: 11, dtype: object"
      ]
     },
     "execution_count": 90,
     "metadata": {},
     "output_type": "execute_result"
    }
   ],
   "source": [
    "update_real.loc[11]"
   ]
  },
  {
   "cell_type": "code",
   "execution_count": 91,
   "metadata": {},
   "outputs": [
    {
     "data": {
      "text/plain": [
       "15702"
      ]
     },
     "execution_count": 91,
     "metadata": {},
     "output_type": "execute_result"
    }
   ],
   "source": [
    "update_real[\"my_score\"].sum()"
   ]
  }
 ],
 "metadata": {
  "kernelspec": {
   "display_name": "Python 3.10.4 64-bit",
   "language": "python",
   "name": "python3"
  },
  "language_info": {
   "codemirror_mode": {
    "name": "ipython",
    "version": 3
   },
   "file_extension": ".py",
   "mimetype": "text/x-python",
   "name": "python",
   "nbconvert_exporter": "python",
   "pygments_lexer": "ipython3",
   "version": "3.10.4"
  },
  "orig_nbformat": 4,
  "vscode": {
   "interpreter": {
    "hash": "3ad933181bd8a04b432d3370b9dc3b0662ad032c4dfaa4e4f1596c548f763858"
   }
  }
 },
 "nbformat": 4,
 "nbformat_minor": 2
}
